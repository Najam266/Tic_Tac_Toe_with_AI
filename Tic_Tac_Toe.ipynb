{
  "cells": [
    {
      "cell_type": "markdown",
      "metadata": {
        "id": "B1ji5GYxzf3e"
      },
      "source": [
        "# **AI Lab 03 22l-7497**"
      ]
    },
    {
      "cell_type": "markdown",
      "metadata": {
        "id": "ij4g06IW50M9"
      },
      "source": [
        "## Tic Tac Toe Game"
      ]
    },
    {
      "cell_type": "code",
      "execution_count": null,
      "metadata": {
        "id": "StdvvkiCv3ya"
      },
      "outputs": [],
      "source": [
        "import pandas as pd\n",
        "import copy\n",
        "import math\n",
        "import random"
      ]
    },
    {
      "cell_type": "code",
      "execution_count": null,
      "metadata": {
        "id": "mHy1RyPG08NV"
      },
      "outputs": [],
      "source": [
        "X = \"X\"\n",
        "O = \"O\"\n",
        "D=\"D\"\n",
        "EMPTY = None"
      ]
    },
    {
      "cell_type": "code",
      "execution_count": null,
      "metadata": {
        "id": "3uReIvgHv98H"
      },
      "outputs": [],
      "source": [
        "def initial_state():\n",
        "   return [[EMPTY, EMPTY, EMPTY],\n",
        "            [EMPTY, EMPTY, EMPTY],\n",
        "            [EMPTY, EMPTY, EMPTY]]"
      ]
    },
    {
      "cell_type": "code",
      "execution_count": null,
      "metadata": {
        "id": "MjhgV_HB2--l"
      },
      "outputs": [],
      "source": [
        "def print_board(board):\n",
        "  print(\"Current board:\")\n",
        "  for row in board:\n",
        "      print(row)\n",
        "  print(\"\\n\\n\")"
      ]
    },
    {
      "cell_type": "code",
      "execution_count": null,
      "metadata": {
        "colab": {
          "background_save": true
        },
        "id": "YHCuJ_57xJsv"
      },
      "outputs": [],
      "source": [
        "def player(board):\n",
        "  count = 0\n",
        "  for i in board:\n",
        "      for j in i:\n",
        "          if j:\n",
        "              count += 1\n",
        "  if count % 2 != 0:\n",
        "        return O\n",
        "  return X"
      ]
    },
    {
      "cell_type": "code",
      "execution_count": null,
      "metadata": {
        "colab": {
          "background_save": true
        },
        "id": "j_eJw-TWxMld"
      },
      "outputs": [],
      "source": [
        "def actions(board,check=False):\n",
        "   res = set()\n",
        "   board_len = len(board)\n",
        "   for i in range(board_len):\n",
        "      for j in range(board_len):\n",
        "            if board[i][j] == EMPTY:\n",
        "                res.add((i, j))\n",
        "\n",
        "   return res"
      ]
    },
    {
      "cell_type": "code",
      "execution_count": null,
      "metadata": {
        "id": "jVD2rTXCxQKL"
      },
      "outputs": [],
      "source": [
        "def result(board, action):\n",
        "    curr_player = player(board)\n",
        "    result_board = copy.deepcopy(board)\n",
        "    (i, j) = action\n",
        "    result_board[i][j] = curr_player\n",
        "    return result_board"
      ]
    },
    {
      "cell_type": "code",
      "execution_count": null,
      "metadata": {
        "id": "gpgAlB0_xTEN"
      },
      "outputs": [],
      "source": [
        "def winner(board):\n",
        "    for row in board:\n",
        "        if row[0] == row[1] == row[2] and row[0] != EMPTY:\n",
        "            return row[0]\n",
        "\n",
        "    for col in range(3):\n",
        "        if board[0][col] == board[1][col] == board[2][col] and board[0][col] != EMPTY:\n",
        "            return board[0][col]\n",
        "\n",
        "    if board[0][0] == board[1][1] == board[2][2] and board[0][0] != EMPTY:\n",
        "        return board[0][0]\n",
        "    if board[0][2] == board[1][1] == board[2][0] and board[0][2] != EMPTY:\n",
        "        return board[0][2]\n",
        "\n",
        "    return None"
      ]
    },
    {
      "cell_type": "code",
      "execution_count": null,
      "metadata": {
        "id": "RvqgPrZ-xW99"
      },
      "outputs": [],
      "source": [
        "def terminal(board):\n",
        "    if winner(board) != None:\n",
        "        return True\n",
        "\n",
        "    for i in board:\n",
        "        for j in i:\n",
        "            if j == EMPTY:\n",
        "                return False\n",
        "    return True"
      ]
    },
    {
      "cell_type": "code",
      "execution_count": null,
      "metadata": {
        "id": "VSvG1GBcCJZm"
      },
      "outputs": [],
      "source": [
        "def max_value(board, alpha, beta):\n",
        "    if terminal(board):\n",
        "        return utility(board), None\n",
        "   ### #### Here as in the sample code, math lib is used so it is the built in function to assign infinity to a variable ####\n",
        "    v = -float(\"inf\")\n",
        "    best_action = None\n",
        "    for action in actions(board):\n",
        "        min_val,value = min_value(result(board, action), alpha, beta)\n",
        "        if min_val > v:\n",
        "            v = min_val\n",
        "            best_action = action\n",
        "        if v >= beta:\n",
        "            return v, best_action\n",
        "        alpha = max(alpha, v)\n",
        "    return v, best_action\n"
      ]
    },
    {
      "cell_type": "code",
      "execution_count": null,
      "metadata": {
        "id": "F07CGu0uCLg-"
      },
      "outputs": [],
      "source": [
        "def min_value(board, alpha, beta):\n",
        "    if terminal(board):\n",
        "        return utility(board), None\n",
        "    v = float(\"inf\")\n",
        "    best_action = None\n",
        "    for action in actions(board):\n",
        "        max_val,value= max_value(result(board, action), alpha, beta)\n",
        "        if max_val < v:\n",
        "            v = max_val\n",
        "            best_action = action\n",
        "        if v <= alpha:\n",
        "            return v, best_action\n",
        "        beta = min(beta, v)\n",
        "    return v, best_action"
      ]
    },
    {
      "cell_type": "code",
      "execution_count": null,
      "metadata": {
        "id": "yjJcnRpBxZXN"
      },
      "outputs": [],
      "source": [
        "def utility(board):\n",
        "    winner_val = winner(board)\n",
        "    if winner_val == X:\n",
        "        return 1\n",
        "    elif winner_val == O:\n",
        "        return -1\n",
        "    return 0"
      ]
    },
    {
      "cell_type": "code",
      "execution_count": null,
      "metadata": {
        "id": "Tru_hWaFxcZ9"
      },
      "outputs": [],
      "source": [
        "def alpha_beta_pruining(board):\n",
        "    if terminal(board):\n",
        "        return None\n",
        "    value, action = min_value(board, -float(\"inf\"), float(\"inf\"))\n",
        "    return action"
      ]
    },
    {
      "cell_type": "code",
      "execution_count": 23,
      "metadata": {
        "collapsed": true,
        "id": "4xLLn2kMx2NU",
        "colab": {
          "base_uri": "https://localhost:8080/"
        },
        "outputId": "06350137-0adb-4a18-80bf-19824a93f554"
      },
      "outputs": [
        {
          "output_type": "stream",
          "name": "stdout",
          "text": [
            "\t\t\t'Tic Tac Toe'\n",
            "\n",
            "\n",
            "\n",
            "Current board:\n",
            "[None, None, None]\n",
            "[None, None, None]\n",
            "[None, None, None]\n",
            "\n",
            "\n",
            "\n",
            "Player:  X\n",
            "Player 1 turn with sign X\n",
            "Enter row: 0\n",
            "Enter column: 2\n",
            "Current board:\n",
            "[None, None, 'X']\n",
            "[None, None, None]\n",
            "[None, None, None]\n",
            "\n",
            "\n",
            "\n",
            "\n",
            "\n",
            "\n",
            "Player:  O\n",
            "Player 2 turn with sign 0\n",
            "(1, 1)\n",
            "Current board:\n",
            "[None, None, 'X']\n",
            "[None, 'O', None]\n",
            "[None, None, None]\n",
            "\n",
            "\n",
            "\n",
            "\n",
            "\n",
            "\n",
            "Player:  X\n",
            "Player 1 turn with sign X\n",
            "Enter row: 0\n",
            "Enter column: 1\n",
            "Current board:\n",
            "[None, 'X', 'X']\n",
            "[None, 'O', None]\n",
            "[None, None, None]\n",
            "\n",
            "\n",
            "\n",
            "\n",
            "\n",
            "\n",
            "Player:  O\n",
            "Player 2 turn with sign 0\n",
            "(0, 0)\n",
            "Current board:\n",
            "['O', 'X', 'X']\n",
            "[None, 'O', None]\n",
            "[None, None, None]\n",
            "\n",
            "\n",
            "\n",
            "\n",
            "\n",
            "\n",
            "Player:  X\n",
            "Player 1 turn with sign X\n",
            "Enter row: 2\n",
            "Enter column: 2\n",
            "Current board:\n",
            "['O', 'X', 'X']\n",
            "[None, 'O', None]\n",
            "[None, None, 'X']\n",
            "\n",
            "\n",
            "\n",
            "\n",
            "\n",
            "\n",
            "Player:  O\n",
            "Player 2 turn with sign 0\n",
            "(1, 2)\n",
            "Current board:\n",
            "['O', 'X', 'X']\n",
            "[None, 'O', 'O']\n",
            "[None, None, 'X']\n",
            "\n",
            "\n",
            "\n",
            "\n",
            "\n",
            "\n",
            "Player:  X\n",
            "Player 1 turn with sign X\n",
            "Enter row: 1\n",
            "Enter column: 0\n",
            "Current board:\n",
            "['O', 'X', 'X']\n",
            "['X', 'O', 'O']\n",
            "[None, None, 'X']\n",
            "\n",
            "\n",
            "\n",
            "\n",
            "\n",
            "\n",
            "Player:  O\n",
            "Player 2 turn with sign 0\n",
            "(2, 0)\n",
            "Current board:\n",
            "['O', 'X', 'X']\n",
            "['X', 'O', 'O']\n",
            "['O', None, 'X']\n",
            "\n",
            "\n",
            "\n",
            "\n",
            "\n",
            "\n",
            "Player:  X\n",
            "Player 1 turn with sign X\n",
            "Enter row: 2\n",
            "Enter column: 1\n",
            "Current board:\n",
            "['O', 'X', 'X']\n",
            "['X', 'O', 'O']\n",
            "['O', 'X', 'X']\n",
            "\n",
            "\n",
            "\n",
            "\n",
            "\n",
            "\n",
            "Draw\n"
          ]
        }
      ],
      "source": [
        "print(\"\\t\\t\\t'Tic Tac Toe'\\n\\n\\n\")\n",
        "board = initial_state()\n",
        "print_board(board)\n",
        "while not terminal(board):\n",
        "  print(\"Player: \", player(board))\n",
        "  if player(board) == X:\n",
        "    print(\"Player 1 turn with sign X\")\n",
        "    #actions(board)\n",
        "    row = (input(\"Enter row: \"))\n",
        "    col = (input(\"Enter column: \"))\n",
        "    action = (int(row), int(col))\n",
        "    board = result(board, action)\n",
        "  else:\n",
        "    print(\"Player 2 turn with sign 0\")\n",
        "    action = alpha_beta_pruining(board)\n",
        "    print(action)\n",
        "    board = result(board, action)\n",
        "\n",
        "  print_board(board)\n",
        "\n",
        "  print(\"\\n\\n\")\n",
        "\n",
        "if winner(board) == X:\n",
        "  print(\"Player 1 wins\")\n",
        "elif winner(board) == O:\n",
        "  print(\"Player 2 wins\")\n",
        "else:\n",
        "  print(\"Draw\")\n"
      ]
    },
    {
      "cell_type": "code",
      "execution_count": null,
      "metadata": {
        "id": "v_alXRsgx3ZU"
      },
      "outputs": [],
      "source": []
    },
    {
      "cell_type": "code",
      "execution_count": null,
      "metadata": {
        "id": "3s389Jg3x3wE"
      },
      "outputs": [],
      "source": []
    },
    {
      "cell_type": "code",
      "execution_count": null,
      "metadata": {
        "id": "kjE0UwCHxfE9"
      },
      "outputs": [],
      "source": []
    }
  ],
  "metadata": {
    "colab": {
      "provenance": []
    },
    "kernelspec": {
      "display_name": "Python 3",
      "name": "python3"
    },
    "language_info": {
      "name": "python"
    }
  },
  "nbformat": 4,
  "nbformat_minor": 0
}